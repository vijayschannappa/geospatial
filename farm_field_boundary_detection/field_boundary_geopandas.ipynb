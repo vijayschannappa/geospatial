{
 "cells": [
  {
   "cell_type": "code",
   "execution_count": 1,
   "id": "7ba07300",
   "metadata": {},
   "outputs": [],
   "source": [
    "import io\n",
    "import sys\n",
    "import boto3\n",
    "import fiona\n",
    "import time\n",
    "import os\n",
    "import shapely\n",
    "import geopandas as gpd\n",
    "import pandas as pd\n",
    "from unfolded.map_sdk import UnfoldedMap\n",
    "# from sidecar import Sidecar\n",
    "from uuid import uuid4\n",
    "from pyproj import Geod\n",
    "from shapely import wkt"
   ]
  },
  {
   "cell_type": "code",
   "execution_count": 3,
   "id": "85ae2550",
   "metadata": {},
   "outputs": [],
   "source": [
    "bucket = 'ffdp-data-general-stage'\n",
    "folder_path = \"geospatial/field_boundary_detection/kml/\" "
   ]
  },
  {
   "cell_type": "code",
   "execution_count": null,
   "id": "7fb3f19f",
   "metadata": {},
   "outputs": [],
   "source": [
    "def get_aws_creds():\n",
    "    cred = boto3.Session().get_credentials()\n",
    "    aws_access_key_id=cred.access_key\n",
    "    aws_secret_access_key=cred.secret_key\n",
    "    aws_session_token=cred.token\n",
    "    return aws_access_key_id, aws_secret_access_key, aws_session_token"
   ]
  },
  {
   "cell_type": "code",
   "execution_count": 4,
   "id": "aa1f4cd7",
   "metadata": {},
   "outputs": [],
   "source": [
    "def initiate_s3_connection():\n",
    "    aws_access_key_id, aws_secret_access_key, aws_session_token = get_aws_creds()\n",
    "    client = boto3.client(\n",
    "    's3',\n",
    "    aws_access_key_id = aws_access_key_id,\n",
    "    aws_secret_access_key = aws_secret_access_key,\n",
    "    aws_session_token = aws_session_token)\n",
    "    s3 = boto3.resource('s3')\n",
    "    my_bucket = s3.Bucket('ffdp-data-general-stage')\n",
    "    return my_bucket,client"
   ]
  },
  {
   "cell_type": "code",
   "execution_count": 5,
   "id": "c977242b",
   "metadata": {},
   "outputs": [],
   "source": [
    "def read_file_to_fr(obj,file_key):        #read the original files and return the geopnadas dataframe\n",
    "    gpd.io.file.fiona.drvsupport.supported_drivers['KML'] = 'rw'\n",
    "    if file_key.endswith('.kml'):\n",
    "        fr = gpd.read_file(io.BytesIO(obj['Body'].read()),driver='KML')\n",
    "    elif file_key.endswith('.geojson'):\n",
    "        fr = gpd.read_file(io.BytesIO(obj['Body'].read()))\n",
    "    if not fr.empty:\n",
    "        fr = fr.dropna(subset=['geometry'])\n",
    "        fr = fr[['geometry']]\n",
    "    fr['geometry'] = fr['geometry'].apply(lambda x: x if not x.has_z else shapely.wkb.loads(shapely.wkb.dumps(x, output_dimension=2)))\n",
    "    fr = fr.loc[fr.geometry.geometry.type != 'Point']\n",
    "#         fr['file_name'] = file_key.split('/')[-1]\n",
    "    return fr"
   ]
  },
  {
   "cell_type": "code",
   "execution_count": 6,
   "id": "7f4517ee",
   "metadata": {},
   "outputs": [],
   "source": [
    "def calculate_net_area(res_union):\n",
    "    net_area = res_union.to_crs('+proj=cea').area.sum()/10000\n",
    "    print(f'net area under management is {net_area} hectares')  "
   ]
  },
  {
   "cell_type": "code",
   "execution_count": 7,
   "id": "8043f54f",
   "metadata": {},
   "outputs": [
    {
     "name": "stderr",
     "output_type": "stream",
     "text": [
      "<ipython-input-7-7007ce65ca39>:20: UserWarning: `keep_geom_type=True` in overlay resulted in 3 dropped geometries of different geometry types than df1 has. Set `keep_geom_type=False` to retain all geometries\n",
      "  res_union = gpd.overlay(res_union,ind_fr, how='union')\n",
      "<ipython-input-7-7007ce65ca39>:20: UserWarning: `keep_geom_type=True` in overlay resulted in 308 dropped geometries of different geometry types than df1 has. Set `keep_geom_type=False` to retain all geometries\n",
      "  res_union = gpd.overlay(res_union,ind_fr, how='union')\n",
      "<ipython-input-7-7007ce65ca39>:20: UserWarning: `keep_geom_type=True` in overlay resulted in 149 dropped geometries of different geometry types than df1 has. Set `keep_geom_type=False` to retain all geometries\n",
      "  res_union = gpd.overlay(res_union,ind_fr, how='union')\n"
     ]
    },
    {
     "name": "stdout",
     "output_type": "stream",
     "text": [
      "file name: Бургуджи поле № 6-7 к, площадь 120 га (1).kml is empty\n",
      "file name: Бургуджи поле № 6-7 к, площадь 120 га.kml is empty\n"
     ]
    },
    {
     "name": "stderr",
     "output_type": "stream",
     "text": [
      "<ipython-input-7-7007ce65ca39>:20: UserWarning: `keep_geom_type=True` in overlay resulted in 28 dropped geometries of different geometry types than df1 has. Set `keep_geom_type=False` to retain all geometries\n",
      "  res_union = gpd.overlay(res_union,ind_fr, how='union')\n",
      "<ipython-input-7-7007ce65ca39>:20: UserWarning: `keep_geom_type=True` in overlay resulted in 396 dropped geometries of different geometry types than df1 has. Set `keep_geom_type=False` to retain all geometries\n",
      "  res_union = gpd.overlay(res_union,ind_fr, how='union')\n",
      "<ipython-input-7-7007ce65ca39>:20: UserWarning: `keep_geom_type=True` in overlay resulted in 1 dropped geometries of different geometry types than df1 has. Set `keep_geom_type=False` to retain all geometries\n",
      "  res_union = gpd.overlay(res_union,ind_fr, how='union')\n",
      "<ipython-input-7-7007ce65ca39>:20: UserWarning: `keep_geom_type=True` in overlay resulted in 344 dropped geometries of different geometry types than df1 has. Set `keep_geom_type=False` to retain all geometries\n",
      "  res_union = gpd.overlay(res_union,ind_fr, how='union')\n"
     ]
    },
    {
     "name": "stdout",
     "output_type": "stream",
     "text": [
      "net area under management is 29344.061778230644 hectares\n",
      "total time taken 2.351723285516103 minutes\n",
      "Total files read: 96\n"
     ]
    }
   ],
   "source": [
    "tic = time.time()\n",
    "bucket_connection,client = initiate_s3_connection()\n",
    "fin_fr = pd.DataFrame()\n",
    "file_count = 0\n",
    "for file in bucket_connection.objects.all():\n",
    "    file_key = file.key\n",
    "    if folder_path in file_key:\n",
    "        obj = client.get_object(Bucket=bucket, Key=file_key)\n",
    "        ind_fr = read_file_to_fr(obj,file_key)\n",
    "        if not ind_fr.empty:\n",
    "#             print(ind_fr.head())\n",
    "            if file_count == 0:\n",
    "                file_count = file_count+1\n",
    "                empty_gpd = gpd.GeoDataFrame(columns=['geometry'], geometry='geometry',crs='WGS84')\n",
    "                res_union = gpd.overlay(ind_fr,empty_gpd, how='union')\n",
    "#                 print(res_union.head())\n",
    "                continue\n",
    "            else:\n",
    "                file_count = file_count+1\n",
    "                res_union = gpd.overlay(res_union,ind_fr, how='union')\n",
    "        else:\n",
    "            file_count = file_count+1\n",
    "            print(f\"file name: {file_key.split('/')[-1]} is empty\")\n",
    "calculate_net_area(res_union)\n",
    "toc = time.time()\n",
    "print(f'total time taken {(toc-tic)/60} minutes')\n",
    "print(f'Total files read: {file_count}')\n"
   ]
  }
 ],
 "metadata": {
  "kernelspec": {
   "display_name": "Python 3",
   "language": "python",
   "name": "python3"
  },
  "language_info": {
   "codemirror_mode": {
    "name": "ipython",
    "version": 3
   },
   "file_extension": ".py",
   "mimetype": "text/x-python",
   "name": "python",
   "nbconvert_exporter": "python",
   "pygments_lexer": "ipython3",
   "version": "3.8.8"
  }
 },
 "nbformat": 4,
 "nbformat_minor": 5
}
