{
 "cells": [
  {
   "cell_type": "code",
   "execution_count": 7,
   "id": "2552f082",
   "metadata": {},
   "outputs": [],
   "source": [
    "import io\n",
    "import sys\n",
    "import boto3\n",
    "import h3pandas\n",
    "import h3\n",
    "import fiona\n",
    "import time\n",
    "import os\n",
    "import shapely\n",
    "import geopandas as gpd\n",
    "import pandas as pd\n",
    "from unfolded.map_sdk import UnfoldedMap\n",
    "# from sidecar import Sidecar\n",
    "from uuid import uuid4\n",
    "from pyproj import Geod\n",
    "from shapely import wkt"
   ]
  },
  {
   "cell_type": "code",
   "execution_count": 9,
   "id": "cd4642d1",
   "metadata": {},
   "outputs": [],
   "source": [
    "bucket = 'ffdp-data-general-stage'\n",
    "folder_path = \"geospatial/field_boundary_detection/kml/\" "
   ]
  },
  {
   "cell_type": "code",
   "execution_count": null,
   "id": "2d3a884b",
   "metadata": {},
   "outputs": [],
   "source": [
    "def get_aws_creds():\n",
    "    cred = boto3.Session().get_credentials()\n",
    "    aws_access_key_id=cred.access_key\n",
    "    aws_secret_access_key=cred.secret_key\n",
    "    aws_session_token=cred.token\n",
    "    return aws_access_key_id, aws_secret_access_key, aws_session_token"
   ]
  },
  {
   "cell_type": "code",
   "execution_count": 10,
   "id": "ededced4",
   "metadata": {},
   "outputs": [],
   "source": [
    "def initiate_s3_connection():\n",
    "    aws_access_key_id, aws_secret_access_key, aws_session_token = get_aws_creds()\n",
    "    client = boto3.client(\n",
    "    's3',\n",
    "    aws_access_key_id = aws_access_key_id,\n",
    "    aws_secret_access_key = aws_secret_access_key,\n",
    "    aws_session_token = aws_session_token)\n",
    "    s3 = boto3.resource('s3')\n",
    "    my_bucket = s3.Bucket('ffdp-data-general-stage')\n",
    "    return my_bucket,client"
   ]
  },
  {
   "cell_type": "code",
   "execution_count": 11,
   "id": "8024d1f8",
   "metadata": {},
   "outputs": [],
   "source": [
    "def get_ind_h3_indexed_fr(df, h3_resolution):  #generate h3 grids and h3 indices for each file (geopandas dataframe) \n",
    "#     print(f'crs system info :{df.crs}')\n",
    "    df['geometry'] = df['geometry'].apply(lambda x: x if not x.has_z else shapely.wkb.loads(shapely.wkb.dumps(x, output_dimension=2)))\n",
    "    df = df.loc[df.geometry.geometry.type != 'Point']\n",
    "    gdf_h3 = df.h3.polyfill(resolution=h3_resolution, explode=True) #fill polygons with hexagon-grids with the given resolution\n",
    "    gdf_h3_area = gdf_h3.copy()\n",
    "    gdf_h3_area = gdf_h3_area.dropna(subset=['h3_polyfill'])\n",
    "    gdf_h3_area=gdf_h3_area.set_index('h3_polyfill')\n",
    "    gdf_h3_area=gdf_h3_area.h3.cell_area(unit='m^2')\n",
    "    gdf_h3_area = gdf_h3_area.reset_index()\n",
    "    gdf_h3_area['geometry_str'] = gdf_h3_area['geometry'].apply(lambda x: str(x))\n",
    "    gdf_h3_area['area(hectares)'] =  gdf_h3_area['h3_cell_area'].apply(lambda x: x/10000)\n",
    "    return gdf_h3_area"
   ]
  },
  {
   "cell_type": "code",
   "execution_count": 12,
   "id": "eee25623",
   "metadata": {},
   "outputs": [],
   "source": [
    "def get_gross_area(final_fr,resolution):\n",
    "    gross_area = round(final_fr.h3_cell_area.sum()/10000,2)\n",
    "    print(f'Gross area covered: {gross_area} hectares')\n",
    "    unique_fr = final_fr.drop_duplicates(subset=['h3_cell_area'])\n",
    "    actual_area = round(unique_fr.h3_cell_area.sum()/10000,2)\n",
    "    print(f'Net area covered: {actual_area} hectares')\n",
    "#     resolution_check = final_fr.dissolve(by='geometry_str',aggfunc='sum')\n",
    "#     resolution_check = final_fr.reset_index()\n",
    "#     resolution_check = resolution_check[['geometry', 'file_name', 'h3_cell_area','area(hectares)']]\n",
    "#     resolution_check['h3_resolution'] = resolution\n",
    "#     print(resolution_check.head())\n",
    "    return gross_area,actual_area"
   ]
  },
  {
   "cell_type": "code",
   "execution_count": 13,
   "id": "1c8ee34e",
   "metadata": {},
   "outputs": [],
   "source": [
    "final_fr = pd.DataFrame()\n",
    "\n",
    "def main(resolution):\n",
    "    tic = time.time()\n",
    "    bucket_connection,client = initiate_s3_connection()\n",
    "    combined_h3_indexed_frame = get_combined_h3_indexed_frame(bucket_connection,client,resolution)\n",
    "    gross_area, net_area = get_gross_area(combined_h3_indexed_frame,resolution)\n",
    "    toc = time.time()\n",
    "    print(f'total time taken to calculate area under management at resolution {resolution}: {toc-tic} seconds ')\n",
    "    print(combined_h3_indexed_frame.head())\n",
    "    return combined_h3_indexed_frame\n",
    "    \n",
    "def get_combined_h3_indexed_frame(bucket_connection,client,resolution):\n",
    "    combined_h3_fr = pd.DataFrame()\n",
    "    file_count = 0\n",
    "    for file in bucket_connection.objects.all():\n",
    "        file_key = file.key\n",
    "        if folder_path in file_key:\n",
    "            obj = client.get_object(Bucket=bucket, Key=file_key)\n",
    "            ind_fr = read_file_to_fr(obj,file_key)\n",
    "            if not ind_fr.empty:\n",
    "                file_count = file_count+1\n",
    "#                 print(ind_fr.head())\n",
    "                ind_h3_fr = get_ind_h3_indexed_fr(ind_fr,resolution) \n",
    "                combined_h3_fr = combined_h3_fr.append(ind_h3_fr)\n",
    "            else:\n",
    "                file_count = file_count+1\n",
    "                print(f\"{file_key.split('/')[-1]} is empty\")\n",
    "                continue\n",
    "    print(f'Total files read: {file_count}')\n",
    "    return combined_h3_fr\n",
    "    \n",
    "    \n",
    "def read_file_to_fr(obj,file_key):        #read the original files and return the geopnadas dataframe\n",
    "    gpd.io.file.fiona.drvsupport.supported_drivers['KML'] = 'rw'\n",
    "    if file_key.endswith('.kml'):\n",
    "        fr = gpd.read_file(io.BytesIO(obj['Body'].read()),driver='KML')\n",
    "    elif file_key.endswith('.geojson'):\n",
    "        fr = gpd.read_file(io.BytesIO(obj['Body'].read()))\n",
    "    if not fr.empty:\n",
    "        fr = fr.dropna(subset=['geometry'])\n",
    "        fr = fr[['geometry']]\n",
    "        fr['file_name'] = file_key.split('/')[-1]\n",
    "    return fr\n",
    "\n",
    "# print(f'total number of files:{i}')\n",
    "# print(f'gross area fr \\n {gross_area_fr.head()}')"
   ]
  },
  {
   "cell_type": "code",
   "execution_count": 14,
   "id": "a2208a1e",
   "metadata": {},
   "outputs": [
    {
     "name": "stdout",
     "output_type": "stream",
     "text": [
      "Бургуджи поле № 6-7 к, площадь 120 га (1).kml is empty\n",
      "Бургуджи поле № 6-7 к, площадь 120 га.kml is empty\n",
      "Total files read: 96\n",
      "Gross area covered: 36316.02 hectares\n",
      "Net area covered: 29064.37 hectares\n",
      "total time taken to calculate area under management at resolution 10: 58.181480884552 seconds \n",
      "       h3_polyfill                                           geometry  \\\n",
      "0  8a2d659008affff  MULTIPOLYGON (((36.06552 49.62685, 36.07158 49...   \n",
      "1  8a2d659008e7fff  MULTIPOLYGON (((36.06552 49.62685, 36.07158 49...   \n",
      "2  8a2d659008dffff  MULTIPOLYGON (((36.06552 49.62685, 36.07158 49...   \n",
      "3  8a2d65900d4ffff  MULTIPOLYGON (((36.06552 49.62685, 36.07158 49...   \n",
      "4  8a2d65900ba7fff  MULTIPOLYGON (((36.06552 49.62685, 36.07158 49...   \n",
      "\n",
      "  file_name  h3_cell_area                                       geometry_str  \\\n",
      "0     1.kml  13956.336395  MULTIPOLYGON (((36.06551576614341 49.626849498...   \n",
      "1     1.kml  13955.730878  MULTIPOLYGON (((36.06551576614341 49.626849498...   \n",
      "2     1.kml  13955.729263  MULTIPOLYGON (((36.06551576614341 49.626849498...   \n",
      "3     1.kml  13957.244254  MULTIPOLYGON (((36.06551576614341 49.626849498...   \n",
      "4     1.kml  13954.822186  MULTIPOLYGON (((36.06551576614341 49.626849498...   \n",
      "\n",
      "   area(hectares)  \n",
      "0        1.395634  \n",
      "1        1.395573  \n",
      "2        1.395573  \n",
      "3        1.395724  \n",
      "4        1.395482  \n"
     ]
    }
   ],
   "source": [
    "combined_h3_indexed_frame = main(10)"
   ]
  },
  {
   "cell_type": "code",
   "execution_count": 15,
   "id": "984681ef",
   "metadata": {},
   "outputs": [
    {
     "data": {
      "text/html": [
       "<div>\n",
       "<style scoped>\n",
       "    .dataframe tbody tr th:only-of-type {\n",
       "        vertical-align: middle;\n",
       "    }\n",
       "\n",
       "    .dataframe tbody tr th {\n",
       "        vertical-align: top;\n",
       "    }\n",
       "\n",
       "    .dataframe thead th {\n",
       "        text-align: right;\n",
       "    }\n",
       "</style>\n",
       "<table border=\"1\" class=\"dataframe\">\n",
       "  <thead>\n",
       "    <tr style=\"text-align: right;\">\n",
       "      <th></th>\n",
       "      <th>h3_polyfill</th>\n",
       "      <th>geometry</th>\n",
       "      <th>file_name</th>\n",
       "      <th>h3_cell_area</th>\n",
       "      <th>geometry_str</th>\n",
       "      <th>area(hectares)</th>\n",
       "    </tr>\n",
       "  </thead>\n",
       "  <tbody>\n",
       "    <tr>\n",
       "      <th>210</th>\n",
       "      <td>8a1192409327fff</td>\n",
       "      <td>MULTIPOLYGON (((37.88835 49.91300, 37.88916 49...</td>\n",
       "      <td>Ватутін+Гиринко+Зоря+Геліантус+Агроінвест.kml</td>\n",
       "      <td>14271.084387</td>\n",
       "      <td>MULTIPOLYGON (((37.888345854879 49.91300167798...</td>\n",
       "      <td>1.427108</td>\n",
       "    </tr>\n",
       "    <tr>\n",
       "      <th>146</th>\n",
       "      <td>8a1192409327fff</td>\n",
       "      <td>MULTIPOLYGON (((37.88835 49.91300, 37.88916 49...</td>\n",
       "      <td>Зоря+Гиренко+Геліантус+Агроінвест.kml</td>\n",
       "      <td>14271.084387</td>\n",
       "      <td>MULTIPOLYGON (((37.888345854879 49.91300167798...</td>\n",
       "      <td>1.427108</td>\n",
       "    </tr>\n",
       "    <tr>\n",
       "      <th>118</th>\n",
       "      <td>8a1192409a07fff</td>\n",
       "      <td>MULTIPOLYGON (((37.88916 49.91441, 37.88835 49...</td>\n",
       "      <td>Зоря+Гиренко+Геліантус+Агроінвест.kml</td>\n",
       "      <td>14270.183908</td>\n",
       "      <td>MULTIPOLYGON (((37.8891573359755 49.9144061644...</td>\n",
       "      <td>1.427018</td>\n",
       "    </tr>\n",
       "    <tr>\n",
       "      <th>175</th>\n",
       "      <td>8a1192409a07fff</td>\n",
       "      <td>MULTIPOLYGON (((37.88916 49.91441, 37.88835 49...</td>\n",
       "      <td>Ватутін+Гиринко+Зоря+Геліантус+Агроінвест.kml</td>\n",
       "      <td>14270.183908</td>\n",
       "      <td>MULTIPOLYGON (((37.8891573359755 49.9144061644...</td>\n",
       "      <td>1.427018</td>\n",
       "    </tr>\n",
       "    <tr>\n",
       "      <th>209</th>\n",
       "      <td>8a1192409a1ffff</td>\n",
       "      <td>MULTIPOLYGON (((37.88835 49.91300, 37.88916 49...</td>\n",
       "      <td>Ватутін+Гиринко+Зоря+Геліантус+Агроінвест.kml</td>\n",
       "      <td>14270.483803</td>\n",
       "      <td>MULTIPOLYGON (((37.888345854879 49.91300167798...</td>\n",
       "      <td>1.427048</td>\n",
       "    </tr>\n",
       "    <tr>\n",
       "      <th>...</th>\n",
       "      <td>...</td>\n",
       "      <td>...</td>\n",
       "      <td>...</td>\n",
       "      <td>...</td>\n",
       "      <td>...</td>\n",
       "      <td>...</td>\n",
       "    </tr>\n",
       "    <tr>\n",
       "      <th>523</th>\n",
       "      <td>8a2d65b6eb6ffff</td>\n",
       "      <td>MULTIPOLYGON (((36.66914 50.01025, 36.66919 50...</td>\n",
       "      <td>Ватутін+Гиринко+Зоря+Геліантус+Агроінвест.kml</td>\n",
       "      <td>14025.354875</td>\n",
       "      <td>MULTIPOLYGON (((36.6691418297865 50.0102456974...</td>\n",
       "      <td>1.402535</td>\n",
       "    </tr>\n",
       "    <tr>\n",
       "      <th>528</th>\n",
       "      <td>8a2d65b6eb77fff</td>\n",
       "      <td>MULTIPOLYGON (((36.66914 50.01025, 36.66919 50...</td>\n",
       "      <td>Ватутін+Гиринко+Зоря+Геліантус+Агроінвест.kml</td>\n",
       "      <td>14025.057351</td>\n",
       "      <td>MULTIPOLYGON (((36.6691418297865 50.0102456974...</td>\n",
       "      <td>1.402506</td>\n",
       "    </tr>\n",
       "    <tr>\n",
       "      <th>464</th>\n",
       "      <td>8a2d65b6eb77fff</td>\n",
       "      <td>MULTIPOLYGON (((36.66914 50.01025, 36.66919 50...</td>\n",
       "      <td>Зоря+Гиренко+Геліантус+Агроінвест.kml</td>\n",
       "      <td>14025.057351</td>\n",
       "      <td>MULTIPOLYGON (((36.6691418297865 50.0102456974...</td>\n",
       "      <td>1.402506</td>\n",
       "    </tr>\n",
       "    <tr>\n",
       "      <th>477</th>\n",
       "      <td>8a2d65b6ebaffff</td>\n",
       "      <td>MULTIPOLYGON (((36.66042 50.00342, 36.67056 50...</td>\n",
       "      <td>Зоря+Гиренко+Геліантус+Агроінвест.kml</td>\n",
       "      <td>14025.066408</td>\n",
       "      <td>MULTIPOLYGON (((36.6604199879793 50.0034233607...</td>\n",
       "      <td>1.402507</td>\n",
       "    </tr>\n",
       "    <tr>\n",
       "      <th>541</th>\n",
       "      <td>8a2d65b6ebaffff</td>\n",
       "      <td>MULTIPOLYGON (((36.66042 50.00342, 36.67056 50...</td>\n",
       "      <td>Ватутін+Гиринко+Зоря+Геліантус+Агроінвест.kml</td>\n",
       "      <td>14025.066408</td>\n",
       "      <td>MULTIPOLYGON (((36.6604199879793 50.0034233607...</td>\n",
       "      <td>1.402507</td>\n",
       "    </tr>\n",
       "  </tbody>\n",
       "</table>\n",
       "<p>25302 rows × 6 columns</p>\n",
       "</div>"
      ],
      "text/plain": [
       "         h3_polyfill                                           geometry  \\\n",
       "210  8a1192409327fff  MULTIPOLYGON (((37.88835 49.91300, 37.88916 49...   \n",
       "146  8a1192409327fff  MULTIPOLYGON (((37.88835 49.91300, 37.88916 49...   \n",
       "118  8a1192409a07fff  MULTIPOLYGON (((37.88916 49.91441, 37.88835 49...   \n",
       "175  8a1192409a07fff  MULTIPOLYGON (((37.88916 49.91441, 37.88835 49...   \n",
       "209  8a1192409a1ffff  MULTIPOLYGON (((37.88835 49.91300, 37.88916 49...   \n",
       "..               ...                                                ...   \n",
       "523  8a2d65b6eb6ffff  MULTIPOLYGON (((36.66914 50.01025, 36.66919 50...   \n",
       "528  8a2d65b6eb77fff  MULTIPOLYGON (((36.66914 50.01025, 36.66919 50...   \n",
       "464  8a2d65b6eb77fff  MULTIPOLYGON (((36.66914 50.01025, 36.66919 50...   \n",
       "477  8a2d65b6ebaffff  MULTIPOLYGON (((36.66042 50.00342, 36.67056 50...   \n",
       "541  8a2d65b6ebaffff  MULTIPOLYGON (((36.66042 50.00342, 36.67056 50...   \n",
       "\n",
       "                                         file_name  h3_cell_area  \\\n",
       "210  Ватутін+Гиринко+Зоря+Геліантус+Агроінвест.kml  14271.084387   \n",
       "146          Зоря+Гиренко+Геліантус+Агроінвест.kml  14271.084387   \n",
       "118          Зоря+Гиренко+Геліантус+Агроінвест.kml  14270.183908   \n",
       "175  Ватутін+Гиринко+Зоря+Геліантус+Агроінвест.kml  14270.183908   \n",
       "209  Ватутін+Гиринко+Зоря+Геліантус+Агроінвест.kml  14270.483803   \n",
       "..                                             ...           ...   \n",
       "523  Ватутін+Гиринко+Зоря+Геліантус+Агроінвест.kml  14025.354875   \n",
       "528  Ватутін+Гиринко+Зоря+Геліантус+Агроінвест.kml  14025.057351   \n",
       "464          Зоря+Гиренко+Геліантус+Агроінвест.kml  14025.057351   \n",
       "477          Зоря+Гиренко+Геліантус+Агроінвест.kml  14025.066408   \n",
       "541  Ватутін+Гиринко+Зоря+Геліантус+Агроінвест.kml  14025.066408   \n",
       "\n",
       "                                          geometry_str  area(hectares)  \n",
       "210  MULTIPOLYGON (((37.888345854879 49.91300167798...        1.427108  \n",
       "146  MULTIPOLYGON (((37.888345854879 49.91300167798...        1.427108  \n",
       "118  MULTIPOLYGON (((37.8891573359755 49.9144061644...        1.427018  \n",
       "175  MULTIPOLYGON (((37.8891573359755 49.9144061644...        1.427018  \n",
       "209  MULTIPOLYGON (((37.888345854879 49.91300167798...        1.427048  \n",
       "..                                                 ...             ...  \n",
       "523  MULTIPOLYGON (((36.6691418297865 50.0102456974...        1.402535  \n",
       "528  MULTIPOLYGON (((36.6691418297865 50.0102456974...        1.402506  \n",
       "464  MULTIPOLYGON (((36.6691418297865 50.0102456974...        1.402506  \n",
       "477  MULTIPOLYGON (((36.6604199879793 50.0034233607...        1.402507  \n",
       "541  MULTIPOLYGON (((36.6604199879793 50.0034233607...        1.402507  \n",
       "\n",
       "[25302 rows x 6 columns]"
      ]
     },
     "execution_count": 15,
     "metadata": {},
     "output_type": "execute_result"
    }
   ],
   "source": [
    "combined_h3_indexed_frame.sort_values('h3_polyfill')"
   ]
  },
  {
   "cell_type": "markdown",
   "id": "e7c87a30",
   "metadata": {},
   "source": [
    "# Display in unfloded"
   ]
  },
  {
   "cell_type": "code",
   "execution_count": 25,
   "id": "62afe10a",
   "metadata": {},
   "outputs": [],
   "source": [
    "from unfolded.map_sdk import UnfoldedMap\n",
    "widget = UnfoldedMap()"
   ]
  },
  {
   "cell_type": "code",
   "execution_count": 8,
   "id": "252b189c",
   "metadata": {},
   "outputs": [
    {
     "data": {
      "text/plain": [
       "<Future pending>"
      ]
     },
     "execution_count": 8,
     "metadata": {},
     "output_type": "execute_result"
    }
   ],
   "source": [
    "# # With a UUID:\n",
    "dataset_id = uuid4()\n",
    "\n",
    "# Or with a custom string\n",
    "# dataset_id = 'h3-data'\n",
    "widget.add_dataset({\n",
    "    'uuid': dataset_id,\n",
    "    'label': 'h3_dataset',\n",
    "    'data': gross_area_fr_13\n",
    "})"
   ]
  },
  {
   "cell_type": "code",
   "execution_count": 13,
   "id": "adf9eb7d",
   "metadata": {},
   "outputs": [],
   "source": [
    "# # With a UUID:\n",
    "dup_dataset_id = uuid4()\n",
    "\n",
    "# Or with a custom string\n",
    "# dataset_id = 'h3-data'\n",
    "widget.add_dataset({\n",
    "    'uuid': dup_dataset_id,\n",
    "    'label': 'h3_dup_dataset',\n",
    "    'data': duplicate\n",
    "})"
   ]
  },
  {
   "cell_type": "code",
   "execution_count": 10,
   "id": "780b0d7c",
   "metadata": {},
   "outputs": [
    {
     "data": {
      "application/vnd.jupyter.widget-view+json": {
       "model_id": "ebad4feed7d849e990eb0e7ff9021fa7",
       "version_major": 2,
       "version_minor": 0
      },
      "text/plain": [
       "UnfoldedMap()"
      ]
     },
     "metadata": {},
     "output_type": "display_data"
    }
   ],
   "source": [
    "widget"
   ]
  },
  {
   "cell_type": "code",
   "execution_count": null,
   "id": "298c6c04",
   "metadata": {},
   "outputs": [],
   "source": [
    "final_fr.sort_values('file_name')"
   ]
  },
  {
   "cell_type": "code",
   "execution_count": null,
   "id": "7f337fae",
   "metadata": {},
   "outputs": [],
   "source": []
  }
 ],
 "metadata": {
  "kernelspec": {
   "display_name": "Python 3",
   "language": "python",
   "name": "python3"
  },
  "language_info": {
   "codemirror_mode": {
    "name": "ipython",
    "version": 3
   },
   "file_extension": ".py",
   "mimetype": "text/x-python",
   "name": "python",
   "nbconvert_exporter": "python",
   "pygments_lexer": "ipython3",
   "version": "3.8.8"
  }
 },
 "nbformat": 4,
 "nbformat_minor": 5
}
